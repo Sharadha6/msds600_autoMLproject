{
 "cells": [
  {
   "cell_type": "markdown",
   "id": "b6f03a05",
   "metadata": {},
   "source": [
    "# Importing Modules"
   ]
  },
  {
   "cell_type": "code",
   "execution_count": 1,
   "id": "b6e340f6",
   "metadata": {},
   "outputs": [
    {
     "name": "stderr",
     "output_type": "stream",
     "text": [
      "C:\\Users\\Sharadha\\AppData\\Local\\Programs\\Python\\Python310\\lib\\site-packages\\tpot\\builtins\\__init__.py:36: UserWarning: Warning: optional dependency `torch` is not available. - skipping import of NN models.\n",
      "  warnings.warn(\"Warning: optional dependency `torch` is not available. - skipping import of NN models.\")\n"
     ]
    }
   ],
   "source": [
    "from tpot import TPOTClassifier\n",
    "import pandas as pd\n",
    "\n",
    "from sklearn.model_selection import train_test_split\n",
    "\n",
    "import numpy as np\n",
    "import pandas as pd\n",
    "\n",
    "from sklearn.ensemble import ExtraTreesClassifier\n",
    "\n",
    "from sklearn.model_selection import train_test_split\n",
    "from sklearn.pipeline import make_pipeline, make_union\n",
    "from sklearn.preprocessing import PolynomialFeatures\n",
    "from tpot.builtins import StackingEstimator\n",
    "from tpot.export_utils import set_param_recursive"
   ]
  },
  {
   "cell_type": "markdown",
   "id": "3d9d1041",
   "metadata": {},
   "source": [
    "# Defining Functions\n",
    "\n",
    "The first function we define is to modify raw data to the format that we use for our model."
   ]
  },
  {
   "cell_type": "code",
   "execution_count": 2,
   "id": "4bf4aa09",
   "metadata": {},
   "outputs": [],
   "source": [
    "#function to modify raw data\n",
    "def data_modify(df):\n",
    "    x='PhoneService'\n",
    "    df[x] = df[x].replace({'No': 1, 'Yes': 0})\n",
    "    x='Contract'\n",
    "    df[x] = df[x].replace({'Month-to-month': 0, 'One year': 1, 'Two year':2})\n",
    "    x='PaymentMethod'\n",
    "    df[x] = df[x].replace({'Mailed check': 1, 'Credit card (automatic)': 2, 'Electronic check':3, 'Bank transfer (automatic)':4}) \n",
    "    df['TotalCharges_tenure_ratio'] = df['TotalCharges']/df['tenure']\n",
    "    del df['customerID']\n",
    "    return df"
   ]
  },
  {
   "cell_type": "markdown",
   "id": "d7ada165",
   "metadata": {},
   "source": [
    "The second function we define is to fit the prepped data into the pipeline we had exported."
   ]
  },
  {
   "cell_type": "code",
   "execution_count": 3,
   "id": "c833f834",
   "metadata": {},
   "outputs": [],
   "source": [
    "#function to use pipeline and predict output\n",
    "def tpot_model(df):\n",
    "    r=exported_pipeline.predict(df)\n",
    "    return r"
   ]
  },
  {
   "cell_type": "markdown",
   "id": "3dd8b3ee",
   "metadata": {},
   "source": [
    "# Loading in Data and Pipeline\n",
    "\n",
    "We load in the initial data as well as the pipeline. We split the data intp train and test data as always.\n",
    "We then load the exported pipeline using the make_pipeline function, and specify the best pipeline we got previously as a parameter. "
   ]
  },
  {
   "cell_type": "code",
   "execution_count": 4,
   "id": "1d1049d6",
   "metadata": {},
   "outputs": [
    {
     "data": {
      "text/html": [
       "<div>\n",
       "<style scoped>\n",
       "    .dataframe tbody tr th:only-of-type {\n",
       "        vertical-align: middle;\n",
       "    }\n",
       "\n",
       "    .dataframe tbody tr th {\n",
       "        vertical-align: top;\n",
       "    }\n",
       "\n",
       "    .dataframe thead th {\n",
       "        text-align: right;\n",
       "    }\n",
       "</style>\n",
       "<table border=\"1\" class=\"dataframe\">\n",
       "  <thead>\n",
       "    <tr style=\"text-align: right;\">\n",
       "      <th></th>\n",
       "      <th>tenure</th>\n",
       "      <th>PhoneService</th>\n",
       "      <th>Contract</th>\n",
       "      <th>PaymentMethod</th>\n",
       "      <th>MonthlyCharges</th>\n",
       "      <th>TotalCharges</th>\n",
       "      <th>Churn</th>\n",
       "      <th>TotalCharges_tenure_ratio</th>\n",
       "    </tr>\n",
       "  </thead>\n",
       "  <tbody>\n",
       "    <tr>\n",
       "      <th>0</th>\n",
       "      <td>1</td>\n",
       "      <td>1</td>\n",
       "      <td>0</td>\n",
       "      <td>3</td>\n",
       "      <td>29.85</td>\n",
       "      <td>29.85</td>\n",
       "      <td>1</td>\n",
       "      <td>29.850000</td>\n",
       "    </tr>\n",
       "    <tr>\n",
       "      <th>1</th>\n",
       "      <td>34</td>\n",
       "      <td>0</td>\n",
       "      <td>1</td>\n",
       "      <td>1</td>\n",
       "      <td>56.95</td>\n",
       "      <td>1889.50</td>\n",
       "      <td>1</td>\n",
       "      <td>55.573529</td>\n",
       "    </tr>\n",
       "    <tr>\n",
       "      <th>2</th>\n",
       "      <td>2</td>\n",
       "      <td>0</td>\n",
       "      <td>0</td>\n",
       "      <td>1</td>\n",
       "      <td>53.85</td>\n",
       "      <td>108.15</td>\n",
       "      <td>0</td>\n",
       "      <td>54.075000</td>\n",
       "    </tr>\n",
       "    <tr>\n",
       "      <th>3</th>\n",
       "      <td>45</td>\n",
       "      <td>1</td>\n",
       "      <td>1</td>\n",
       "      <td>4</td>\n",
       "      <td>42.30</td>\n",
       "      <td>1840.75</td>\n",
       "      <td>1</td>\n",
       "      <td>40.905556</td>\n",
       "    </tr>\n",
       "    <tr>\n",
       "      <th>4</th>\n",
       "      <td>2</td>\n",
       "      <td>0</td>\n",
       "      <td>0</td>\n",
       "      <td>3</td>\n",
       "      <td>70.70</td>\n",
       "      <td>151.65</td>\n",
       "      <td>0</td>\n",
       "      <td>75.825000</td>\n",
       "    </tr>\n",
       "  </tbody>\n",
       "</table>\n",
       "</div>"
      ],
      "text/plain": [
       "   tenure  PhoneService  Contract  PaymentMethod  MonthlyCharges  \\\n",
       "0       1             1         0              3           29.85   \n",
       "1      34             0         1              1           56.95   \n",
       "2       2             0         0              1           53.85   \n",
       "3      45             1         1              4           42.30   \n",
       "4       2             0         0              3           70.70   \n",
       "\n",
       "   TotalCharges  Churn  TotalCharges_tenure_ratio  \n",
       "0         29.85      1                  29.850000  \n",
       "1       1889.50      1                  55.573529  \n",
       "2        108.15      0                  54.075000  \n",
       "3       1840.75      1                  40.905556  \n",
       "4        151.65      0                  75.825000  "
      ]
     },
     "execution_count": 4,
     "metadata": {},
     "output_type": "execute_result"
    }
   ],
   "source": [
    "df = pd.read_csv('prepped_churn.csv')\n",
    "del df['Unnamed: 0']\n",
    "df.head()"
   ]
  },
  {
   "cell_type": "code",
   "execution_count": 5,
   "id": "d2c34902",
   "metadata": {},
   "outputs": [],
   "source": [
    "features = df.drop('Churn', axis=1)\n",
    "targets = df['Churn']\n",
    "\n",
    "x_train, x_test, y_train, y_test = train_test_split(features, targets, stratify=targets, random_state=42)"
   ]
  },
  {
   "cell_type": "code",
   "execution_count": 6,
   "id": "35f56568",
   "metadata": {},
   "outputs": [],
   "source": [
    "#retrieve the pipeline we previously stored\n",
    "exported_pipeline = make_pipeline(\n",
    "    ExtraTreesClassifier(bootstrap=False, criterion='gini', max_features=0.35000000000000003, min_samples_leaf=18, min_samples_split=9, n_estimators=100)\n",
    ")\n",
    "   \n",
    "# Fix random state for all the steps in exported pipeline\n",
    "set_param_recursive(exported_pipeline.steps, 'random_state', 42)"
   ]
  },
  {
   "cell_type": "code",
   "execution_count": 7,
   "id": "7ceaba2c",
   "metadata": {},
   "outputs": [
    {
     "name": "stdout",
     "output_type": "stream",
     "text": [
      "[1 1 0 0 1]\n",
      "5270    1\n",
      "5820    1\n",
      "4675    1\n",
      "4987    0\n",
      "5058    1\n",
      "Name: Churn, dtype: int64\n"
     ]
    }
   ],
   "source": [
    "#fit the pipeline with our training data, predict test data results and compare\n",
    "exported_pipeline.fit(x_train, y_train)\n",
    "results = exported_pipeline.predict(x_test)\n",
    "print(results[:5])\n",
    "print(y_test[:5])"
   ]
  },
  {
   "cell_type": "markdown",
   "id": "a94342be",
   "metadata": {},
   "source": [
    "# Predicting New Data Results\n",
    "\n",
    "We first load in the new data. We then call the data_modify function to get the data to our desired format, and then we predict the Churn values."
   ]
  },
  {
   "cell_type": "code",
   "execution_count": 8,
   "id": "17370727",
   "metadata": {},
   "outputs": [
    {
     "data": {
      "text/html": [
       "<div>\n",
       "<style scoped>\n",
       "    .dataframe tbody tr th:only-of-type {\n",
       "        vertical-align: middle;\n",
       "    }\n",
       "\n",
       "    .dataframe tbody tr th {\n",
       "        vertical-align: top;\n",
       "    }\n",
       "\n",
       "    .dataframe thead th {\n",
       "        text-align: right;\n",
       "    }\n",
       "</style>\n",
       "<table border=\"1\" class=\"dataframe\">\n",
       "  <thead>\n",
       "    <tr style=\"text-align: right;\">\n",
       "      <th></th>\n",
       "      <th>customerID</th>\n",
       "      <th>tenure</th>\n",
       "      <th>PhoneService</th>\n",
       "      <th>Contract</th>\n",
       "      <th>PaymentMethod</th>\n",
       "      <th>MonthlyCharges</th>\n",
       "      <th>TotalCharges</th>\n",
       "    </tr>\n",
       "  </thead>\n",
       "  <tbody>\n",
       "    <tr>\n",
       "      <th>0</th>\n",
       "      <td>9305-CKSKC</td>\n",
       "      <td>22</td>\n",
       "      <td>Yes</td>\n",
       "      <td>Month-to-month</td>\n",
       "      <td>Electronic check</td>\n",
       "      <td>97.40</td>\n",
       "      <td>811.70</td>\n",
       "    </tr>\n",
       "    <tr>\n",
       "      <th>1</th>\n",
       "      <td>1452-KNGVK</td>\n",
       "      <td>8</td>\n",
       "      <td>No</td>\n",
       "      <td>One year</td>\n",
       "      <td>Mailed check</td>\n",
       "      <td>77.30</td>\n",
       "      <td>1701.95</td>\n",
       "    </tr>\n",
       "    <tr>\n",
       "      <th>2</th>\n",
       "      <td>6723-OKKJM</td>\n",
       "      <td>28</td>\n",
       "      <td>Yes</td>\n",
       "      <td>Month-to-month</td>\n",
       "      <td>Credit card (automatic)</td>\n",
       "      <td>28.25</td>\n",
       "      <td>250.90</td>\n",
       "    </tr>\n",
       "    <tr>\n",
       "      <th>3</th>\n",
       "      <td>7832-POPKP</td>\n",
       "      <td>62</td>\n",
       "      <td>Yes</td>\n",
       "      <td>Month-to-month</td>\n",
       "      <td>Electronic check</td>\n",
       "      <td>101.70</td>\n",
       "      <td>3106.56</td>\n",
       "    </tr>\n",
       "    <tr>\n",
       "      <th>4</th>\n",
       "      <td>6348-TACGU</td>\n",
       "      <td>10</td>\n",
       "      <td>No</td>\n",
       "      <td>Two year</td>\n",
       "      <td>Credit card (automatic)</td>\n",
       "      <td>51.15</td>\n",
       "      <td>3440.97</td>\n",
       "    </tr>\n",
       "  </tbody>\n",
       "</table>\n",
       "</div>"
      ],
      "text/plain": [
       "   customerID  tenure PhoneService        Contract            PaymentMethod  \\\n",
       "0  9305-CKSKC      22          Yes  Month-to-month         Electronic check   \n",
       "1  1452-KNGVK       8           No        One year             Mailed check   \n",
       "2  6723-OKKJM      28          Yes  Month-to-month  Credit card (automatic)   \n",
       "3  7832-POPKP      62          Yes  Month-to-month         Electronic check   \n",
       "4  6348-TACGU      10           No        Two year  Credit card (automatic)   \n",
       "\n",
       "   MonthlyCharges  TotalCharges  \n",
       "0           97.40        811.70  \n",
       "1           77.30       1701.95  \n",
       "2           28.25        250.90  \n",
       "3          101.70       3106.56  \n",
       "4           51.15       3440.97  "
      ]
     },
     "execution_count": 8,
     "metadata": {},
     "output_type": "execute_result"
    }
   ],
   "source": [
    "#Loading in new data\n",
    "df2=pd.read_csv('new_churn_data_unmodified.csv')\n",
    "df2.head()"
   ]
  },
  {
   "cell_type": "code",
   "execution_count": 9,
   "id": "c06eedd1",
   "metadata": {},
   "outputs": [
    {
     "data": {
      "text/html": [
       "<div>\n",
       "<style scoped>\n",
       "    .dataframe tbody tr th:only-of-type {\n",
       "        vertical-align: middle;\n",
       "    }\n",
       "\n",
       "    .dataframe tbody tr th {\n",
       "        vertical-align: top;\n",
       "    }\n",
       "\n",
       "    .dataframe thead th {\n",
       "        text-align: right;\n",
       "    }\n",
       "</style>\n",
       "<table border=\"1\" class=\"dataframe\">\n",
       "  <thead>\n",
       "    <tr style=\"text-align: right;\">\n",
       "      <th></th>\n",
       "      <th>tenure</th>\n",
       "      <th>PhoneService</th>\n",
       "      <th>Contract</th>\n",
       "      <th>PaymentMethod</th>\n",
       "      <th>MonthlyCharges</th>\n",
       "      <th>TotalCharges</th>\n",
       "      <th>TotalCharges_tenure_ratio</th>\n",
       "    </tr>\n",
       "  </thead>\n",
       "  <tbody>\n",
       "    <tr>\n",
       "      <th>0</th>\n",
       "      <td>22</td>\n",
       "      <td>0</td>\n",
       "      <td>0</td>\n",
       "      <td>3</td>\n",
       "      <td>97.40</td>\n",
       "      <td>811.70</td>\n",
       "      <td>36.895455</td>\n",
       "    </tr>\n",
       "    <tr>\n",
       "      <th>1</th>\n",
       "      <td>8</td>\n",
       "      <td>1</td>\n",
       "      <td>1</td>\n",
       "      <td>1</td>\n",
       "      <td>77.30</td>\n",
       "      <td>1701.95</td>\n",
       "      <td>212.743750</td>\n",
       "    </tr>\n",
       "    <tr>\n",
       "      <th>2</th>\n",
       "      <td>28</td>\n",
       "      <td>0</td>\n",
       "      <td>0</td>\n",
       "      <td>2</td>\n",
       "      <td>28.25</td>\n",
       "      <td>250.90</td>\n",
       "      <td>8.960714</td>\n",
       "    </tr>\n",
       "    <tr>\n",
       "      <th>3</th>\n",
       "      <td>62</td>\n",
       "      <td>0</td>\n",
       "      <td>0</td>\n",
       "      <td>3</td>\n",
       "      <td>101.70</td>\n",
       "      <td>3106.56</td>\n",
       "      <td>50.105806</td>\n",
       "    </tr>\n",
       "    <tr>\n",
       "      <th>4</th>\n",
       "      <td>10</td>\n",
       "      <td>1</td>\n",
       "      <td>2</td>\n",
       "      <td>2</td>\n",
       "      <td>51.15</td>\n",
       "      <td>3440.97</td>\n",
       "      <td>344.097000</td>\n",
       "    </tr>\n",
       "  </tbody>\n",
       "</table>\n",
       "</div>"
      ],
      "text/plain": [
       "   tenure  PhoneService  Contract  PaymentMethod  MonthlyCharges  \\\n",
       "0      22             0         0              3           97.40   \n",
       "1       8             1         1              1           77.30   \n",
       "2      28             0         0              2           28.25   \n",
       "3      62             0         0              3          101.70   \n",
       "4      10             1         2              2           51.15   \n",
       "\n",
       "   TotalCharges  TotalCharges_tenure_ratio  \n",
       "0        811.70                  36.895455  \n",
       "1       1701.95                 212.743750  \n",
       "2        250.90                   8.960714  \n",
       "3       3106.56                  50.105806  \n",
       "4       3440.97                 344.097000  "
      ]
     },
     "execution_count": 9,
     "metadata": {},
     "output_type": "execute_result"
    }
   ],
   "source": [
    "#Modifying the data to the desired format\n",
    "df2=data_modify(df2)\n",
    "df2.head()"
   ]
  },
  {
   "cell_type": "code",
   "execution_count": 10,
   "id": "98461494",
   "metadata": {},
   "outputs": [
    {
     "name": "stdout",
     "output_type": "stream",
     "text": [
      "[1 1 1 1 1]\n"
     ]
    }
   ],
   "source": [
    "#Predicting the Churn Results for new data\n",
    "results = tpot_model(df2)\n",
    "print(results)"
   ]
  },
  {
   "cell_type": "markdown",
   "id": "7d77fc26",
   "metadata": {},
   "source": [
    "# Summary\n",
    "\n",
    "Here, we first loaded in our initial dataset and split it into train and test data. We then loaded in the pipeline we previously exported and fit the training data into it. We checked the accuracy of the model by predicting the results for our test data and then comparing it with the actual y_test values. Here, we can see from the first 5 values itself that while the model is mostly accurate, it does give us some errors. This is because the accuracy of our model was just 79.6%. \n",
    "We then load in the new churn data. As this is still raw unmodified data, we use a function to change the data into our desired format. Once this is done, we call in the function to predict the Churn results for this data with our exported pipeline. \n",
    "We got the result as five 1's. This means that all the customers are predicted NOT to churn. As expected, we did get a few false positive values."
   ]
  }
 ],
 "metadata": {
  "kernelspec": {
   "display_name": "Python 3 (ipykernel)",
   "language": "python",
   "name": "python3"
  },
  "language_info": {
   "codemirror_mode": {
    "name": "ipython",
    "version": 3
   },
   "file_extension": ".py",
   "mimetype": "text/x-python",
   "name": "python",
   "nbconvert_exporter": "python",
   "pygments_lexer": "ipython3",
   "version": "3.10.4"
  }
 },
 "nbformat": 4,
 "nbformat_minor": 5
}
